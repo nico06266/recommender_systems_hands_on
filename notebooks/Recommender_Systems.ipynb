{
 "cells": [
  {
   "cell_type": "markdown",
   "id": "4e30dba4",
   "metadata": {},
   "source": [
    "# AI Clinique #15 : Recommender Systems\n",
    "\n",
    "- __Date__: 09-12-2021\n",
    "- __Presentator__: Nicolas Clavel\n",
    "- __Datasets__: For this hands-on, we will be using the following open source datasets\n",
    "    - Movie Lens Dataset accessible here: https://grouplens.org/datasets/movielens/latest/\n",
    "    - The movie database: https://www.kaggle.com/tmdb/tmdb-movie-metadata?select=tmdb_5000_movies.csv\n",
    "- __Packages__: pip install -r requirements.txt\n",
    "- __Documentation__:\n",
    "    - Interesting Github: https://github.com/rposhala/Recommender-System-on-MovieLens-dataset#content-based-recommender-system\n",
    "    - Scikit-surprise: http://surprise.readthedocs.io/en/stable/getting_started.html\n",
    "    - Matrix Factorization from scratch: https://towardsdatascience.com/recommendation-system-matrix-factorization-d61978660b4b\n",
    "    - Content-based filtering Kaggle: https://www.kaggle.com/ibtesama/getting-started-with-a-movie-recommendation-system/notebook\n",
    "- __Citation__:  \n",
    "Maxwell Harper and Joseph A. Konstan. 2015. The MovieLens Datasets: History and Context. ACM Transactions on Interactive Intelligent Systems "
   ]
  },
  {
   "cell_type": "markdown",
   "id": "990e2392",
   "metadata": {},
   "source": [
    "## Recommender Systems\n",
    "The objective of a Recommender System is to __recommend relevant items for users__, based on their preference, history consumption...  \n",
    "We see the use of recommendation systems all around us. These systems are personalizing our web experience, telling us what to buy (Amazon), which movies to watch (Netflix), whom to be friends with (Facebook), which songs to listen (Spotify) etc.  \n",
    "Recommender systems typically produce a list of recommendations and there are few ways in which it can be done.  \n",
    "Two of the most popular ways are – through __collaborative filtering__ or through __content-based filtering__"
   ]
  },
  {
   "cell_type": "markdown",
   "id": "af510b8a",
   "metadata": {},
   "source": [
    "### Table of contents\n",
    "- __1. Presentation of the Movie Lens dataset__\n",
    "- __2. Collaborative filtering__\n",
    "- __3. Content based filtering__\n",
    "- __4. Simple recommender system__"
   ]
  },
  {
   "cell_type": "markdown",
   "id": "f6cb9a66",
   "metadata": {},
   "source": [
    "#### Imports"
   ]
  },
  {
   "cell_type": "code",
   "execution_count": 207,
   "id": "64903063",
   "metadata": {},
   "outputs": [],
   "source": [
    "import numpy as np\n",
    "import pandas as pd\n",
    "from surprise import SVD, NMF, KNNBasic, Reader, Dataset, accuracy\n",
    "from surprise.model_selection import cross_validate, GridSearchCV, train_test_split\n",
    "import matplotlib\n",
    "import seaborn as sns\n",
    "from sklearn.neighbors import NearestNeighbors\n",
    "from sklearn.feature_extraction.text import TfidfVectorizer\n",
    "from scipy.sparse import csr_matrix\n",
    "from IPython.display import Image\n",
    "import matplotlib.pyplot as plt\n",
    "from sklearn.metrics.pairwise import linear_kernel"
   ]
  },
  {
   "cell_type": "markdown",
   "id": "9a8e90db",
   "metadata": {},
   "source": [
    "## 1. Presentation of the Movie Lens dataset"
   ]
  },
  {
   "cell_type": "markdown",
   "id": "9c6247dc",
   "metadata": {},
   "source": [
    "#### Movies file"
   ]
  },
  {
   "cell_type": "code",
   "execution_count": 2,
   "id": "d5bd137b",
   "metadata": {},
   "outputs": [
    {
     "name": "stdout",
     "output_type": "stream",
     "text": [
      "Nb of rows in the movies file: 9742\n",
      "Columnsof the movies file: ['movieId' 'title' 'genres']\n"
     ]
    },
    {
     "data": {
      "text/html": [
       "<div>\n",
       "<style scoped>\n",
       "    .dataframe tbody tr th:only-of-type {\n",
       "        vertical-align: middle;\n",
       "    }\n",
       "\n",
       "    .dataframe tbody tr th {\n",
       "        vertical-align: top;\n",
       "    }\n",
       "\n",
       "    .dataframe thead th {\n",
       "        text-align: right;\n",
       "    }\n",
       "</style>\n",
       "<table border=\"1\" class=\"dataframe\">\n",
       "  <thead>\n",
       "    <tr style=\"text-align: right;\">\n",
       "      <th></th>\n",
       "      <th>movieId</th>\n",
       "      <th>title</th>\n",
       "      <th>genres</th>\n",
       "    </tr>\n",
       "  </thead>\n",
       "  <tbody>\n",
       "    <tr>\n",
       "      <th>0</th>\n",
       "      <td>1</td>\n",
       "      <td>Toy Story (1995)</td>\n",
       "      <td>Adventure|Animation|Children|Comedy|Fantasy</td>\n",
       "    </tr>\n",
       "    <tr>\n",
       "      <th>1</th>\n",
       "      <td>2</td>\n",
       "      <td>Jumanji (1995)</td>\n",
       "      <td>Adventure|Children|Fantasy</td>\n",
       "    </tr>\n",
       "    <tr>\n",
       "      <th>2</th>\n",
       "      <td>3</td>\n",
       "      <td>Grumpier Old Men (1995)</td>\n",
       "      <td>Comedy|Romance</td>\n",
       "    </tr>\n",
       "  </tbody>\n",
       "</table>\n",
       "</div>"
      ],
      "text/plain": [
       "   movieId                    title  \\\n",
       "0        1         Toy Story (1995)   \n",
       "1        2           Jumanji (1995)   \n",
       "2        3  Grumpier Old Men (1995)   \n",
       "\n",
       "                                        genres  \n",
       "0  Adventure|Animation|Children|Comedy|Fantasy  \n",
       "1                   Adventure|Children|Fantasy  \n",
       "2                               Comedy|Romance  "
      ]
     },
     "execution_count": 2,
     "metadata": {},
     "output_type": "execute_result"
    }
   ],
   "source": [
    "# Load movies\n",
    "movies = pd.read_csv('../input_data/ml-latest-small/movies.csv', low_memory=False)\n",
    "\n",
    "# Figures\n",
    "print(f'Nb of rows in the movies file: {len(movies)}')\n",
    "print(f'Columnsof the movies file: {movies.columns.values}')\n",
    "\n",
    "# Print the first three rows\n",
    "movies.head(3)"
   ]
  },
  {
   "cell_type": "markdown",
   "id": "8342f795",
   "metadata": {},
   "source": [
    "#### Ratings"
   ]
  },
  {
   "cell_type": "code",
   "execution_count": 9,
   "id": "83eed868",
   "metadata": {},
   "outputs": [
    {
     "name": "stdout",
     "output_type": "stream",
     "text": [
      "Nb of rows in the ratings file: 100836\n",
      "Columns of the ratings file: ['userId' 'movieId' 'rating' 'timestamp']\n",
      "Min ratings: 0.5 Max ratings: 5.0\n",
      "Nb of movies: 9724\n",
      "Nb of users: 610\n"
     ]
    },
    {
     "data": {
      "text/html": [
       "<div>\n",
       "<style scoped>\n",
       "    .dataframe tbody tr th:only-of-type {\n",
       "        vertical-align: middle;\n",
       "    }\n",
       "\n",
       "    .dataframe tbody tr th {\n",
       "        vertical-align: top;\n",
       "    }\n",
       "\n",
       "    .dataframe thead th {\n",
       "        text-align: right;\n",
       "    }\n",
       "</style>\n",
       "<table border=\"1\" class=\"dataframe\">\n",
       "  <thead>\n",
       "    <tr style=\"text-align: right;\">\n",
       "      <th></th>\n",
       "      <th>userId</th>\n",
       "      <th>movieId</th>\n",
       "      <th>rating</th>\n",
       "      <th>timestamp</th>\n",
       "    </tr>\n",
       "  </thead>\n",
       "  <tbody>\n",
       "    <tr>\n",
       "      <th>0</th>\n",
       "      <td>1</td>\n",
       "      <td>1</td>\n",
       "      <td>4.0</td>\n",
       "      <td>964982703</td>\n",
       "    </tr>\n",
       "    <tr>\n",
       "      <th>1</th>\n",
       "      <td>1</td>\n",
       "      <td>3</td>\n",
       "      <td>4.0</td>\n",
       "      <td>964981247</td>\n",
       "    </tr>\n",
       "    <tr>\n",
       "      <th>2</th>\n",
       "      <td>1</td>\n",
       "      <td>6</td>\n",
       "      <td>4.0</td>\n",
       "      <td>964982224</td>\n",
       "    </tr>\n",
       "  </tbody>\n",
       "</table>\n",
       "</div>"
      ],
      "text/plain": [
       "   userId  movieId  rating  timestamp\n",
       "0       1        1     4.0  964982703\n",
       "1       1        3     4.0  964981247\n",
       "2       1        6     4.0  964982224"
      ]
     },
     "execution_count": 9,
     "metadata": {},
     "output_type": "execute_result"
    }
   ],
   "source": [
    "# Load ratings\n",
    "ratings = pd.read_csv('../input_data/ml-latest-small/ratings.csv', low_memory=False)\n",
    "\n",
    "\n",
    "# Figures\n",
    "print(f'Nb of rows in the ratings file: {len(ratings)}')\n",
    "print(f'Columns of the ratings file: {ratings.columns.values}')\n",
    "print(f'Min ratings: {min(ratings[\"rating\"])} Max ratings: {max(ratings[\"rating\"])}')\n",
    "print(f'Nb of movies: {len(ratings[\"movieId\"].unique())}')\n",
    "print(f'Nb of users: {len(ratings[\"userId\"].unique())}')\n",
    "\n",
    "# Print the first three rows\n",
    "ratings.head(3)"
   ]
  },
  {
   "cell_type": "markdown",
   "id": "e9714eb0",
   "metadata": {},
   "source": [
    "#### Check if nan values"
   ]
  },
  {
   "cell_type": "code",
   "execution_count": 4,
   "id": "a4b16202",
   "metadata": {},
   "outputs": [
    {
     "name": "stdout",
     "output_type": "stream",
     "text": [
      "Nb nans values in userId: False\n",
      "Nb nans values in movieId: False\n",
      "Nb nans values in rating: False\n"
     ]
    }
   ],
   "source": [
    "print(f'Nb nans values in userId: {pd.isnull(ratings[\"userId\"]).any()}')\n",
    "print(f'Nb nans values in movieId: {pd.isnull(ratings[\"movieId\"]).any()}')\n",
    "print(f'Nb nans values in rating: {pd.isnull(ratings[\"rating\"]).any()}')"
   ]
  },
  {
   "cell_type": "markdown",
   "id": "5f419826",
   "metadata": {},
   "source": [
    "#### Tags"
   ]
  },
  {
   "cell_type": "code",
   "execution_count": 5,
   "id": "6664524e",
   "metadata": {},
   "outputs": [
    {
     "name": "stdout",
     "output_type": "stream",
     "text": [
      "Nb of rows in the tags file: 3683\n",
      "Columns of the tags file: ['userId' 'movieId' 'tag' 'timestamp']\n"
     ]
    },
    {
     "data": {
      "text/html": [
       "<div>\n",
       "<style scoped>\n",
       "    .dataframe tbody tr th:only-of-type {\n",
       "        vertical-align: middle;\n",
       "    }\n",
       "\n",
       "    .dataframe tbody tr th {\n",
       "        vertical-align: top;\n",
       "    }\n",
       "\n",
       "    .dataframe thead th {\n",
       "        text-align: right;\n",
       "    }\n",
       "</style>\n",
       "<table border=\"1\" class=\"dataframe\">\n",
       "  <thead>\n",
       "    <tr style=\"text-align: right;\">\n",
       "      <th></th>\n",
       "      <th>userId</th>\n",
       "      <th>movieId</th>\n",
       "      <th>tag</th>\n",
       "      <th>timestamp</th>\n",
       "    </tr>\n",
       "  </thead>\n",
       "  <tbody>\n",
       "    <tr>\n",
       "      <th>0</th>\n",
       "      <td>2</td>\n",
       "      <td>60756</td>\n",
       "      <td>funny</td>\n",
       "      <td>1445714994</td>\n",
       "    </tr>\n",
       "    <tr>\n",
       "      <th>1</th>\n",
       "      <td>2</td>\n",
       "      <td>60756</td>\n",
       "      <td>Highly quotable</td>\n",
       "      <td>1445714996</td>\n",
       "    </tr>\n",
       "    <tr>\n",
       "      <th>2</th>\n",
       "      <td>2</td>\n",
       "      <td>60756</td>\n",
       "      <td>will ferrell</td>\n",
       "      <td>1445714992</td>\n",
       "    </tr>\n",
       "  </tbody>\n",
       "</table>\n",
       "</div>"
      ],
      "text/plain": [
       "   userId  movieId              tag   timestamp\n",
       "0       2    60756            funny  1445714994\n",
       "1       2    60756  Highly quotable  1445714996\n",
       "2       2    60756     will ferrell  1445714992"
      ]
     },
     "execution_count": 5,
     "metadata": {},
     "output_type": "execute_result"
    }
   ],
   "source": [
    "# Load tags\n",
    "tags = pd.read_csv('../input_data/ml-latest-small/tags.csv', low_memory=False)\n",
    "\n",
    "# Figures\n",
    "print(f'Nb of rows in the tags file: {len(tags)}')\n",
    "print(f'Columns of the tags file: {tags.columns.values}')\n",
    "\n",
    "# Print the first three rows\n",
    "tags.head(3)"
   ]
  },
  {
   "cell_type": "markdown",
   "id": "88f791fb",
   "metadata": {},
   "source": [
    "#### Datavizualisation"
   ]
  },
  {
   "cell_type": "code",
   "execution_count": 6,
   "id": "2442182b",
   "metadata": {},
   "outputs": [
    {
     "data": {
      "text/plain": [
       "<AxesSubplot:xlabel='rating', ylabel='Count'>"
      ]
     },
     "execution_count": 6,
     "metadata": {},
     "output_type": "execute_result"
    },
    {
     "data": {
      "image/png": "[encoded data removed]",
      "text/plain": [
       "<Figure size 432x288 with 1 Axes>"
      ]
     },
     "metadata": {
      "needs_background": "light"
     },
     "output_type": "display_data"
    }
   ],
   "source": [
    "sns.histplot(data=ratings, x=\"rating\", binwidth=0.5)"
   ]
  },
  {
   "cell_type": "markdown",
   "id": "a20ff2fb",
   "metadata": {},
   "source": [
    "#### Ratings frequency of movies"
   ]
  },
  {
   "cell_type": "code",
   "execution_count": 120,
   "id": "87ae01c8",
   "metadata": {},
   "outputs": [
    {
     "data": {
      "image/png": "[encoded data removed]",
      "text/plain": [
       "<Figure size 720x288 with 1 Axes>"
      ]
     },
     "metadata": {},
     "output_type": "display_data"
    }
   ],
   "source": [
    "df = df_ratings[['movieId','userId']].groupby(['movieId']).agg(['count']).sort_values(('userId','count'),ascending=False)\n",
    " \n",
    "plt.figure(figsize=(10,4))\n",
    "sns.set_style(\"darkgrid\")\n",
    "sns.lineplot(data=df[('userId', 'count')].values)\n",
    "plt.title(\"Rating frequency of movies\")\n",
    "plt.xlabel(\"Movie id\")\n",
    "plt.ylabel(\"Number of ratings\");"
   ]
  },
  {
   "cell_type": "markdown",
   "id": "512c2c6c",
   "metadata": {},
   "source": [
    "#### Ratings frequency of users"
   ]
  },
  {
   "cell_type": "code",
   "execution_count": 125,
   "id": "37bdaf37",
   "metadata": {},
   "outputs": [
    {
     "data": {
      "image/png": "[encoded data removed]",
      "text/plain": [
       "<Figure size 720x288 with 1 Axes>"
      ]
     },
     "metadata": {},
     "output_type": "display_data"
    }
   ],
   "source": [
    "df = df_ratings[['movieId','userId']].groupby(['userId']).agg(['count']).sort_values(('movieId','count'),ascending=False)\n",
    " \n",
    "plt.figure(figsize=(10,4))\n",
    "sns.set_style(\"darkgrid\")\n",
    "sns.lineplot(data=df[('movieId', 'count')].values)\n",
    "plt.title(\"Rating frequency of users\")\n",
    "plt.xlabel(\"User id\")\n",
    "plt.ylabel(\"Number of ratings\");"
   ]
  },
  {
   "cell_type": "markdown",
   "id": "6d3656c7",
   "metadata": {},
   "source": [
    "#### User-Item interaction matrix\n",
    "For top 15th rated users and items for vizualisation"
   ]
  },
  {
   "cell_type": "code",
   "execution_count": 7,
   "id": "03b60dbc",
   "metadata": {},
   "outputs": [
    {
     "data": {
      "text/html": [
       "<div>\n",
       "<style scoped>\n",
       "    .dataframe tbody tr th:only-of-type {\n",
       "        vertical-align: middle;\n",
       "    }\n",
       "\n",
       "    .dataframe tbody tr th {\n",
       "        vertical-align: top;\n",
       "    }\n",
       "\n",
       "    .dataframe thead th {\n",
       "        text-align: right;\n",
       "    }\n",
       "</style>\n",
       "<table border=\"1\" class=\"dataframe\">\n",
       "  <thead>\n",
       "    <tr style=\"text-align: right;\">\n",
       "      <th>movieId</th>\n",
       "      <th>1</th>\n",
       "      <th>50</th>\n",
       "      <th>110</th>\n",
       "      <th>260</th>\n",
       "      <th>296</th>\n",
       "      <th>318</th>\n",
       "      <th>356</th>\n",
       "      <th>480</th>\n",
       "      <th>527</th>\n",
       "      <th>589</th>\n",
       "      <th>593</th>\n",
       "      <th>1196</th>\n",
       "      <th>2571</th>\n",
       "      <th>2858</th>\n",
       "      <th>2959</th>\n",
       "    </tr>\n",
       "    <tr>\n",
       "      <th>userId</th>\n",
       "      <th></th>\n",
       "      <th></th>\n",
       "      <th></th>\n",
       "      <th></th>\n",
       "      <th></th>\n",
       "      <th></th>\n",
       "      <th></th>\n",
       "      <th></th>\n",
       "      <th></th>\n",
       "      <th></th>\n",
       "      <th></th>\n",
       "      <th></th>\n",
       "      <th></th>\n",
       "      <th></th>\n",
       "      <th></th>\n",
       "    </tr>\n",
       "  </thead>\n",
       "  <tbody>\n",
       "    <tr>\n",
       "      <th>68</th>\n",
       "      <td>2.5</td>\n",
       "      <td>3.0</td>\n",
       "      <td>2.5</td>\n",
       "      <td>5.0</td>\n",
       "      <td>2.0</td>\n",
       "      <td>3.0</td>\n",
       "      <td>3.5</td>\n",
       "      <td>3.5</td>\n",
       "      <td>4.0</td>\n",
       "      <td>3.5</td>\n",
       "      <td>3.5</td>\n",
       "      <td>5.0</td>\n",
       "      <td>4.5</td>\n",
       "      <td>5.0</td>\n",
       "      <td>2.5</td>\n",
       "    </tr>\n",
       "    <tr>\n",
       "      <th>182</th>\n",
       "      <td>4.0</td>\n",
       "      <td>4.5</td>\n",
       "      <td>3.5</td>\n",
       "      <td>3.5</td>\n",
       "      <td>5.0</td>\n",
       "      <td>4.5</td>\n",
       "      <td>5.0</td>\n",
       "      <td>3.5</td>\n",
       "      <td>4.0</td>\n",
       "      <td>2.0</td>\n",
       "      <td>4.5</td>\n",
       "      <td>3.0</td>\n",
       "      <td>5.0</td>\n",
       "      <td>5.0</td>\n",
       "      <td>5.0</td>\n",
       "    </tr>\n",
       "    <tr>\n",
       "      <th>249</th>\n",
       "      <td>4.0</td>\n",
       "      <td>4.0</td>\n",
       "      <td>5.0</td>\n",
       "      <td>5.0</td>\n",
       "      <td>4.0</td>\n",
       "      <td>4.5</td>\n",
       "      <td>4.5</td>\n",
       "      <td>4.0</td>\n",
       "      <td>4.5</td>\n",
       "      <td>4.0</td>\n",
       "      <td>4.0</td>\n",
       "      <td>5.0</td>\n",
       "      <td>5.0</td>\n",
       "      <td>4.5</td>\n",
       "      <td>5.0</td>\n",
       "    </tr>\n",
       "    <tr>\n",
       "      <th>274</th>\n",
       "      <td>4.0</td>\n",
       "      <td>4.0</td>\n",
       "      <td>4.5</td>\n",
       "      <td>3.0</td>\n",
       "      <td>5.0</td>\n",
       "      <td>4.5</td>\n",
       "      <td>4.5</td>\n",
       "      <td>3.5</td>\n",
       "      <td>4.0</td>\n",
       "      <td>4.5</td>\n",
       "      <td>4.0</td>\n",
       "      <td>4.5</td>\n",
       "      <td>4.0</td>\n",
       "      <td>5.0</td>\n",
       "      <td>5.0</td>\n",
       "    </tr>\n",
       "    <tr>\n",
       "      <th>288</th>\n",
       "      <td>4.5</td>\n",
       "      <td>NaN</td>\n",
       "      <td>5.0</td>\n",
       "      <td>5.0</td>\n",
       "      <td>5.0</td>\n",
       "      <td>5.0</td>\n",
       "      <td>5.0</td>\n",
       "      <td>2.0</td>\n",
       "      <td>5.0</td>\n",
       "      <td>4.0</td>\n",
       "      <td>5.0</td>\n",
       "      <td>4.5</td>\n",
       "      <td>3.0</td>\n",
       "      <td>NaN</td>\n",
       "      <td>3.5</td>\n",
       "    </tr>\n",
       "    <tr>\n",
       "      <th>307</th>\n",
       "      <td>4.0</td>\n",
       "      <td>4.5</td>\n",
       "      <td>3.5</td>\n",
       "      <td>3.5</td>\n",
       "      <td>4.5</td>\n",
       "      <td>4.5</td>\n",
       "      <td>4.0</td>\n",
       "      <td>3.5</td>\n",
       "      <td>4.5</td>\n",
       "      <td>2.5</td>\n",
       "      <td>4.5</td>\n",
       "      <td>3.0</td>\n",
       "      <td>3.5</td>\n",
       "      <td>4.0</td>\n",
       "      <td>4.0</td>\n",
       "    </tr>\n",
       "    <tr>\n",
       "      <th>380</th>\n",
       "      <td>5.0</td>\n",
       "      <td>4.0</td>\n",
       "      <td>4.0</td>\n",
       "      <td>5.0</td>\n",
       "      <td>5.0</td>\n",
       "      <td>3.0</td>\n",
       "      <td>5.0</td>\n",
       "      <td>5.0</td>\n",
       "      <td>NaN</td>\n",
       "      <td>5.0</td>\n",
       "      <td>5.0</td>\n",
       "      <td>5.0</td>\n",
       "      <td>4.5</td>\n",
       "      <td>NaN</td>\n",
       "      <td>4.0</td>\n",
       "    </tr>\n",
       "    <tr>\n",
       "      <th>387</th>\n",
       "      <td>NaN</td>\n",
       "      <td>4.5</td>\n",
       "      <td>3.5</td>\n",
       "      <td>4.5</td>\n",
       "      <td>5.0</td>\n",
       "      <td>3.5</td>\n",
       "      <td>4.0</td>\n",
       "      <td>3.0</td>\n",
       "      <td>NaN</td>\n",
       "      <td>3.5</td>\n",
       "      <td>4.0</td>\n",
       "      <td>4.5</td>\n",
       "      <td>4.0</td>\n",
       "      <td>4.5</td>\n",
       "      <td>4.5</td>\n",
       "    </tr>\n",
       "    <tr>\n",
       "      <th>414</th>\n",
       "      <td>4.0</td>\n",
       "      <td>5.0</td>\n",
       "      <td>5.0</td>\n",
       "      <td>5.0</td>\n",
       "      <td>5.0</td>\n",
       "      <td>5.0</td>\n",
       "      <td>5.0</td>\n",
       "      <td>4.0</td>\n",
       "      <td>4.0</td>\n",
       "      <td>5.0</td>\n",
       "      <td>4.0</td>\n",
       "      <td>5.0</td>\n",
       "      <td>5.0</td>\n",
       "      <td>5.0</td>\n",
       "      <td>5.0</td>\n",
       "    </tr>\n",
       "    <tr>\n",
       "      <th>448</th>\n",
       "      <td>5.0</td>\n",
       "      <td>4.0</td>\n",
       "      <td>NaN</td>\n",
       "      <td>5.0</td>\n",
       "      <td>5.0</td>\n",
       "      <td>NaN</td>\n",
       "      <td>3.0</td>\n",
       "      <td>3.0</td>\n",
       "      <td>NaN</td>\n",
       "      <td>3.0</td>\n",
       "      <td>5.0</td>\n",
       "      <td>5.0</td>\n",
       "      <td>2.0</td>\n",
       "      <td>4.0</td>\n",
       "      <td>4.0</td>\n",
       "    </tr>\n",
       "    <tr>\n",
       "      <th>474</th>\n",
       "      <td>4.0</td>\n",
       "      <td>4.0</td>\n",
       "      <td>3.0</td>\n",
       "      <td>4.0</td>\n",
       "      <td>4.0</td>\n",
       "      <td>5.0</td>\n",
       "      <td>3.0</td>\n",
       "      <td>4.5</td>\n",
       "      <td>5.0</td>\n",
       "      <td>4.0</td>\n",
       "      <td>4.5</td>\n",
       "      <td>5.0</td>\n",
       "      <td>4.5</td>\n",
       "      <td>3.5</td>\n",
       "      <td>4.0</td>\n",
       "    </tr>\n",
       "    <tr>\n",
       "      <th>599</th>\n",
       "      <td>3.0</td>\n",
       "      <td>3.5</td>\n",
       "      <td>3.5</td>\n",
       "      <td>5.0</td>\n",
       "      <td>5.0</td>\n",
       "      <td>4.0</td>\n",
       "      <td>3.5</td>\n",
       "      <td>4.0</td>\n",
       "      <td>NaN</td>\n",
       "      <td>4.5</td>\n",
       "      <td>3.0</td>\n",
       "      <td>5.0</td>\n",
       "      <td>5.0</td>\n",
       "      <td>5.0</td>\n",
       "      <td>5.0</td>\n",
       "    </tr>\n",
       "    <tr>\n",
       "      <th>603</th>\n",
       "      <td>4.0</td>\n",
       "      <td>NaN</td>\n",
       "      <td>1.0</td>\n",
       "      <td>4.0</td>\n",
       "      <td>5.0</td>\n",
       "      <td>NaN</td>\n",
       "      <td>3.0</td>\n",
       "      <td>NaN</td>\n",
       "      <td>3.0</td>\n",
       "      <td>NaN</td>\n",
       "      <td>5.0</td>\n",
       "      <td>3.0</td>\n",
       "      <td>5.0</td>\n",
       "      <td>5.0</td>\n",
       "      <td>4.0</td>\n",
       "    </tr>\n",
       "    <tr>\n",
       "      <th>606</th>\n",
       "      <td>2.5</td>\n",
       "      <td>4.5</td>\n",
       "      <td>3.5</td>\n",
       "      <td>4.5</td>\n",
       "      <td>5.0</td>\n",
       "      <td>3.5</td>\n",
       "      <td>4.0</td>\n",
       "      <td>2.5</td>\n",
       "      <td>5.0</td>\n",
       "      <td>3.5</td>\n",
       "      <td>4.5</td>\n",
       "      <td>4.5</td>\n",
       "      <td>5.0</td>\n",
       "      <td>4.5</td>\n",
       "      <td>5.0</td>\n",
       "    </tr>\n",
       "    <tr>\n",
       "      <th>610</th>\n",
       "      <td>5.0</td>\n",
       "      <td>4.0</td>\n",
       "      <td>4.5</td>\n",
       "      <td>5.0</td>\n",
       "      <td>5.0</td>\n",
       "      <td>3.0</td>\n",
       "      <td>3.0</td>\n",
       "      <td>5.0</td>\n",
       "      <td>3.5</td>\n",
       "      <td>5.0</td>\n",
       "      <td>4.5</td>\n",
       "      <td>5.0</td>\n",
       "      <td>5.0</td>\n",
       "      <td>3.5</td>\n",
       "      <td>5.0</td>\n",
       "    </tr>\n",
       "  </tbody>\n",
       "</table>\n",
       "</div>"
      ],
      "text/plain": [
       "movieId  1     50    110   260   296   318   356   480   527   589   593   \\\n",
       "userId                                                                      \n",
       "68        2.5   3.0   2.5   5.0   2.0   3.0   3.5   3.5   4.0   3.5   3.5   \n",
       "182       4.0   4.5   3.5   3.5   5.0   4.5   5.0   3.5   4.0   2.0   4.5   \n",
       "249       4.0   4.0   5.0   5.0   4.0   4.5   4.5   4.0   4.5   4.0   4.0   \n",
       "274       4.0   4.0   4.5   3.0   5.0   4.5   4.5   3.5   4.0   4.5   4.0   \n",
       "288       4.5   NaN   5.0   5.0   5.0   5.0   5.0   2.0   5.0   4.0   5.0   \n",
       "307       4.0   4.5   3.5   3.5   4.5   4.5   4.0   3.5   4.5   2.5   4.5   \n",
       "380       5.0   4.0   4.0   5.0   5.0   3.0   5.0   5.0   NaN   5.0   5.0   \n",
       "387       NaN   4.5   3.5   4.5   5.0   3.5   4.0   3.0   NaN   3.5   4.0   \n",
       "414       4.0   5.0   5.0   5.0   5.0   5.0   5.0   4.0   4.0   5.0   4.0   \n",
       "448       5.0   4.0   NaN   5.0   5.0   NaN   3.0   3.0   NaN   3.0   5.0   \n",
       "474       4.0   4.0   3.0   4.0   4.0   5.0   3.0   4.5   5.0   4.0   4.5   \n",
       "599       3.0   3.5   3.5   5.0   5.0   4.0   3.5   4.0   NaN   4.5   3.0   \n",
       "603       4.0   NaN   1.0   4.0   5.0   NaN   3.0   NaN   3.0   NaN   5.0   \n",
       "606       2.5   4.5   3.5   4.5   5.0   3.5   4.0   2.5   5.0   3.5   4.5   \n",
       "610       5.0   4.0   4.5   5.0   5.0   3.0   3.0   5.0   3.5   5.0   4.5   \n",
       "\n",
       "movieId  1196  2571  2858  2959  \n",
       "userId                           \n",
       "68        5.0   4.5   5.0   2.5  \n",
       "182       3.0   5.0   5.0   5.0  \n",
       "249       5.0   5.0   4.5   5.0  \n",
       "274       4.5   4.0   5.0   5.0  \n",
       "288       4.5   3.0   NaN   3.5  \n",
       "307       3.0   3.5   4.0   4.0  \n",
       "380       5.0   4.5   NaN   4.0  \n",
       "387       4.5   4.0   4.5   4.5  \n",
       "414       5.0   5.0   5.0   5.0  \n",
       "448       5.0   2.0   4.0   4.0  \n",
       "474       5.0   4.5   3.5   4.0  \n",
       "599       5.0   5.0   5.0   5.0  \n",
       "603       3.0   5.0   5.0   4.0  \n",
       "606       4.5   5.0   4.5   5.0  \n",
       "610       5.0   5.0   3.5   5.0  "
      ]
     },
     "execution_count": 7,
     "metadata": {},
     "output_type": "execute_result"
    }
   ],
   "source": [
    "top = 15\n",
    "g = ratings.groupby('userId')['rating'].count()\n",
    "topg = g.sort_values(ascending = False)[:top]\n",
    "\n",
    "i = ratings.groupby('movieId')['rating'].count()\n",
    "topi = i.sort_values(ascending = False)[:top]\n",
    "\n",
    "# gettings ratings of top users and top items\n",
    "join_top_users = ratings.join(topg, on='userId', how = 'inner', rsuffix='_r')\n",
    "join_top_movies_and_users = join_top_users.join(topi, on='movieId', how = 'inner', rsuffix = '_r')\n",
    "\n",
    "pd.crosstab(join_top_movies_and_users.userId, join_top_movies_and_users.movieId,\n",
    "            join_top_movies_and_users.rating, aggfunc=np.mean)"
   ]
  },
  {
   "cell_type": "markdown",
   "id": "cc4e3a96",
   "metadata": {},
   "source": [
    "#### Sparsity"
   ]
  },
  {
   "cell_type": "code",
   "execution_count": 73,
   "id": "54918a4d",
   "metadata": {},
   "outputs": [
    {
     "name": "stdout",
     "output_type": "stream",
     "text": [
      "sparsity of user-item matrix is :\n",
      "0.9830003169443864\n"
     ]
    }
   ],
   "source": [
    "unique_movies = len(ratings[\"movieId\"].unique())\n",
    "unique_users = len(ratings[\"userId\"].unique())\n",
    "total_ratings = unique_users * unique_movies\n",
    "rating_present = ratings.shape[0]\n",
    "\n",
    "ratings_not_provided = total_ratings - rating_present \n",
    "\n",
    "print(\"sparsity of user-item matrix is :\")\n",
    "print(ratings_not_provided / total_ratings)"
   ]
  },
  {
   "cell_type": "markdown",
   "id": "47e3858c",
   "metadata": {},
   "source": [
    "#### Users-items top 500 users, top 3000 movies\n",
    "This is done to limit matrix sparsity (for collaborative filtering)"
   ]
  },
  {
   "cell_type": "code",
   "execution_count": 105,
   "id": "94468047",
   "metadata": {},
   "outputs": [],
   "source": [
    "top_users = 500\n",
    "g = ratings.groupby('userId')['rating'].count()\n",
    "topg = g.sort_values(ascending = False)[:top_users]\n",
    "\n",
    "top_movies = 1000\n",
    "i = ratings.groupby('movieId')['rating'].count()\n",
    "topi = i.sort_values(ascending = False)[:top_movies]\n",
    "\n",
    "# gettings ratings of top users and top items\n",
    "join_top_users = ratings.join(topg, on='userId', how = 'inner', rsuffix='_r')\n",
    "join_top_movies_and_users = join_top_users.join(topi, on='movieId', how = 'inner', rsuffix = '_r')\n",
    "\n",
    "user_movie_matrix = pd.crosstab(join_top_movies_and_users.userId, join_top_movies_and_users.movieId,\n",
    "                                join_top_movies_and_users.rating, aggfunc=np.mean)"
   ]
  },
  {
   "cell_type": "code",
   "execution_count": 106,
   "id": "c8ba91dd",
   "metadata": {},
   "outputs": [
    {
     "data": {
      "text/html": [
       "<div>\n",
       "<style scoped>\n",
       "    .dataframe tbody tr th:only-of-type {\n",
       "        vertical-align: middle;\n",
       "    }\n",
       "\n",
       "    .dataframe tbody tr th {\n",
       "        vertical-align: top;\n",
       "    }\n",
       "\n",
       "    .dataframe thead th {\n",
       "        text-align: right;\n",
       "    }\n",
       "</style>\n",
       "<table border=\"1\" class=\"dataframe\">\n",
       "  <thead>\n",
       "    <tr style=\"text-align: right;\">\n",
       "      <th>movieId</th>\n",
       "      <th>1</th>\n",
       "      <th>2</th>\n",
       "      <th>3</th>\n",
       "      <th>5</th>\n",
       "      <th>6</th>\n",
       "      <th>7</th>\n",
       "      <th>10</th>\n",
       "      <th>11</th>\n",
       "      <th>16</th>\n",
       "      <th>17</th>\n",
       "      <th>...</th>\n",
       "      <th>122892</th>\n",
       "      <th>122900</th>\n",
       "      <th>122904</th>\n",
       "      <th>122918</th>\n",
       "      <th>134130</th>\n",
       "      <th>134853</th>\n",
       "      <th>139385</th>\n",
       "      <th>148626</th>\n",
       "      <th>152081</th>\n",
       "      <th>166528</th>\n",
       "    </tr>\n",
       "    <tr>\n",
       "      <th>userId</th>\n",
       "      <th></th>\n",
       "      <th></th>\n",
       "      <th></th>\n",
       "      <th></th>\n",
       "      <th></th>\n",
       "      <th></th>\n",
       "      <th></th>\n",
       "      <th></th>\n",
       "      <th></th>\n",
       "      <th></th>\n",
       "      <th></th>\n",
       "      <th></th>\n",
       "      <th></th>\n",
       "      <th></th>\n",
       "      <th></th>\n",
       "      <th></th>\n",
       "      <th></th>\n",
       "      <th></th>\n",
       "      <th></th>\n",
       "      <th></th>\n",
       "      <th></th>\n",
       "    </tr>\n",
       "  </thead>\n",
       "  <tbody>\n",
       "    <tr>\n",
       "      <th>1</th>\n",
       "      <td>4.0</td>\n",
       "      <td>NaN</td>\n",
       "      <td>4.0</td>\n",
       "      <td>NaN</td>\n",
       "      <td>4.0</td>\n",
       "      <td>NaN</td>\n",
       "      <td>NaN</td>\n",
       "      <td>NaN</td>\n",
       "      <td>NaN</td>\n",
       "      <td>NaN</td>\n",
       "      <td>...</td>\n",
       "      <td>NaN</td>\n",
       "      <td>NaN</td>\n",
       "      <td>NaN</td>\n",
       "      <td>NaN</td>\n",
       "      <td>NaN</td>\n",
       "      <td>NaN</td>\n",
       "      <td>NaN</td>\n",
       "      <td>NaN</td>\n",
       "      <td>NaN</td>\n",
       "      <td>NaN</td>\n",
       "    </tr>\n",
       "    <tr>\n",
       "      <th>3</th>\n",
       "      <td>NaN</td>\n",
       "      <td>NaN</td>\n",
       "      <td>NaN</td>\n",
       "      <td>NaN</td>\n",
       "      <td>NaN</td>\n",
       "      <td>NaN</td>\n",
       "      <td>NaN</td>\n",
       "      <td>NaN</td>\n",
       "      <td>NaN</td>\n",
       "      <td>NaN</td>\n",
       "      <td>...</td>\n",
       "      <td>NaN</td>\n",
       "      <td>NaN</td>\n",
       "      <td>NaN</td>\n",
       "      <td>NaN</td>\n",
       "      <td>NaN</td>\n",
       "      <td>NaN</td>\n",
       "      <td>NaN</td>\n",
       "      <td>NaN</td>\n",
       "      <td>NaN</td>\n",
       "      <td>NaN</td>\n",
       "    </tr>\n",
       "    <tr>\n",
       "      <th>4</th>\n",
       "      <td>NaN</td>\n",
       "      <td>NaN</td>\n",
       "      <td>NaN</td>\n",
       "      <td>NaN</td>\n",
       "      <td>NaN</td>\n",
       "      <td>NaN</td>\n",
       "      <td>NaN</td>\n",
       "      <td>NaN</td>\n",
       "      <td>NaN</td>\n",
       "      <td>NaN</td>\n",
       "      <td>...</td>\n",
       "      <td>NaN</td>\n",
       "      <td>NaN</td>\n",
       "      <td>NaN</td>\n",
       "      <td>NaN</td>\n",
       "      <td>NaN</td>\n",
       "      <td>NaN</td>\n",
       "      <td>NaN</td>\n",
       "      <td>NaN</td>\n",
       "      <td>NaN</td>\n",
       "      <td>NaN</td>\n",
       "    </tr>\n",
       "    <tr>\n",
       "      <th>5</th>\n",
       "      <td>4.0</td>\n",
       "      <td>NaN</td>\n",
       "      <td>NaN</td>\n",
       "      <td>NaN</td>\n",
       "      <td>NaN</td>\n",
       "      <td>NaN</td>\n",
       "      <td>NaN</td>\n",
       "      <td>NaN</td>\n",
       "      <td>NaN</td>\n",
       "      <td>NaN</td>\n",
       "      <td>...</td>\n",
       "      <td>NaN</td>\n",
       "      <td>NaN</td>\n",
       "      <td>NaN</td>\n",
       "      <td>NaN</td>\n",
       "      <td>NaN</td>\n",
       "      <td>NaN</td>\n",
       "      <td>NaN</td>\n",
       "      <td>NaN</td>\n",
       "      <td>NaN</td>\n",
       "      <td>NaN</td>\n",
       "    </tr>\n",
       "    <tr>\n",
       "      <th>6</th>\n",
       "      <td>NaN</td>\n",
       "      <td>4.0</td>\n",
       "      <td>5.0</td>\n",
       "      <td>5.0</td>\n",
       "      <td>4.0</td>\n",
       "      <td>4.0</td>\n",
       "      <td>3.0</td>\n",
       "      <td>4.0</td>\n",
       "      <td>4.0</td>\n",
       "      <td>4.0</td>\n",
       "      <td>...</td>\n",
       "      <td>NaN</td>\n",
       "      <td>NaN</td>\n",
       "      <td>NaN</td>\n",
       "      <td>NaN</td>\n",
       "      <td>NaN</td>\n",
       "      <td>NaN</td>\n",
       "      <td>NaN</td>\n",
       "      <td>NaN</td>\n",
       "      <td>NaN</td>\n",
       "      <td>NaN</td>\n",
       "    </tr>\n",
       "  </tbody>\n",
       "</table>\n",
       "<p>5 rows × 1000 columns</p>\n",
       "</div>"
      ],
      "text/plain": [
       "movieId  1       2       3       5       6       7       10      11      \\\n",
       "userId                                                                    \n",
       "1           4.0     NaN     4.0     NaN     4.0     NaN     NaN     NaN   \n",
       "3           NaN     NaN     NaN     NaN     NaN     NaN     NaN     NaN   \n",
       "4           NaN     NaN     NaN     NaN     NaN     NaN     NaN     NaN   \n",
       "5           4.0     NaN     NaN     NaN     NaN     NaN     NaN     NaN   \n",
       "6           NaN     4.0     5.0     5.0     4.0     4.0     3.0     4.0   \n",
       "\n",
       "movieId  16      17      ...  122892  122900  122904  122918  134130  134853  \\\n",
       "userId                   ...                                                   \n",
       "1           NaN     NaN  ...     NaN     NaN     NaN     NaN     NaN     NaN   \n",
       "3           NaN     NaN  ...     NaN     NaN     NaN     NaN     NaN     NaN   \n",
       "4           NaN     NaN  ...     NaN     NaN     NaN     NaN     NaN     NaN   \n",
       "5           NaN     NaN  ...     NaN     NaN     NaN     NaN     NaN     NaN   \n",
       "6           4.0     4.0  ...     NaN     NaN     NaN     NaN     NaN     NaN   \n",
       "\n",
       "movieId  139385  148626  152081  166528  \n",
       "userId                                   \n",
       "1           NaN     NaN     NaN     NaN  \n",
       "3           NaN     NaN     NaN     NaN  \n",
       "4           NaN     NaN     NaN     NaN  \n",
       "5           NaN     NaN     NaN     NaN  \n",
       "6           NaN     NaN     NaN     NaN  \n",
       "\n",
       "[5 rows x 1000 columns]"
      ]
     },
     "execution_count": 106,
     "metadata": {},
     "output_type": "execute_result"
    }
   ],
   "source": [
    "user_movie_matrix.iloc[0:5]"
   ]
  },
  {
   "cell_type": "code",
   "execution_count": 90,
   "id": "af87fb08",
   "metadata": {},
   "outputs": [
    {
     "data": {
      "text/plain": [
       "0.881618"
      ]
     },
     "execution_count": 90,
     "metadata": {},
     "output_type": "execute_result"
    }
   ],
   "source": [
    "user_movie_matrix.isna().sum().sum() / float(len(user_movie_matrix) * len(user_movie_matrix.columns))"
   ]
  },
  {
   "cell_type": "markdown",
   "id": "f0725c94",
   "metadata": {},
   "source": [
    "## 2. Collaborative filtering\n",
    "__Collaborative filtering__ is based on the assumption that people who agreed in the past will agree in the future, and that they will like similar kinds of items as they liked in the past.  \n",
    "It uses __similarities between users behaviours__ to provide recommendations, there is no need of knowledge/features required.  \n",
    "There are two types of collaborative filtering:\n",
    "- __Memory based__\n",
    "- __Model based__  \n",
    "\n",
    "The key difference is that we __are not learning any parameter__ using gradient descent (or any other optimization algorithm) in the memory-based."
   ]
  },
  {
   "cell_type": "markdown",
   "id": "eb5f0b1e",
   "metadata": {},
   "source": [
    "### 2.1. Matrix Factorization (Model based)\n",
    "__Matrix Factorization__ is denoted as methods that decompose a rating matrix for collaborative filtering.  \n",
    "The __user-item interaction matrice__ lists __users and items in rows and columns__, respectively.  \n",
    "The __ratings of user i on movie j__ is located in __cell(i, j)__ (the cell is empty if no ratings exist yet).  \n",
    "Documentation: https://developers.google.com/machine-learning/recommendation/collaborative/matrix  \n",
    "Matrix factorization from scratch: https://towardsdatascience.com/recommendation-system-matrix-factorization-d61978660b4b  \n",
    "Scikit-surprise doc: https://surprise.readthedocs.io/en/stable/matrix_factorization.html"
   ]
  },
  {
   "cell_type": "code",
   "execution_count": 92,
   "id": "5f94279e",
   "metadata": {},
   "outputs": [
    {
     "data": {
      "image/png": "[encoded data removed]",
      "text/plain": [
       "<IPython.core.display.Image object>"
      ]
     },
     "execution_count": 92,
     "metadata": {},
     "output_type": "execute_result"
    }
   ],
   "source": [
    "Image(filename='../input_data/matrix_facto_illustration.png')"
   ]
  },
  {
   "cell_type": "markdown",
   "id": "7d18d414",
   "metadata": {},
   "source": [
    "#### Datapreparation"
   ]
  },
  {
   "cell_type": "code",
   "execution_count": 93,
   "id": "ed621f7e",
   "metadata": {},
   "outputs": [],
   "source": [
    "df_ratings = ratings[['movieId', 'userId', 'rating']]\n",
    "\n",
    "# The Reader class is used to parse a file containing ratings.\n",
    "reader = Reader(rating_scale=(0.5, 5.0))\n",
    "\n",
    "# The columns must correspond to userId, itemId and ratings (in that order).\n",
    "dataset_ratings = Dataset.load_from_df(df_ratings[['userId', 'movieId', 'rating']], reader)\n",
    "\n",
    "# Split dataset between train and test set\n",
    "train, test = train_test_split(dataset_ratings, test_size=.20, random_state=2)\n",
    "# As if we remove some cells of the user-item matrix to put them in the set"
   ]
  },
  {
   "cell_type": "markdown",
   "id": "386d1391",
   "metadata": {},
   "source": [
    "#### NMF: Non-negative Matrix Factorization\n",
    "Documentation: https://en.wikipedia.org/wiki/Non-negative_matrix_factorization"
   ]
  },
  {
   "cell_type": "code",
   "execution_count": 94,
   "id": "bbd973f9",
   "metadata": {},
   "outputs": [
    {
     "name": "stdout",
     "output_type": "stream",
     "text": [
      "RMSE: 0.9258\n"
     ]
    }
   ],
   "source": [
    "# Number of latents factors\n",
    "n_factors=15\n",
    "\n",
    "# NMF model\n",
    "nmf = NMF(n_factors=n_factors)\n",
    "\n",
    "# Train the algorithm on the train set, and predict ratings for the test set\n",
    "nmf.fit(train)\n",
    "preds = nmf.test(test)\n",
    "\n",
    "# Then compute RMSE\n",
    "accuracy.rmse(preds)\n",
    "\n",
    "# To dataframe\n",
    "df_preds = pd.DataFrame(preds)"
   ]
  },
  {
   "cell_type": "code",
   "execution_count": 95,
   "id": "c6b93ef7",
   "metadata": {},
   "outputs": [
    {
     "data": {
      "text/html": [
       "<div>\n",
       "<style scoped>\n",
       "    .dataframe tbody tr th:only-of-type {\n",
       "        vertical-align: middle;\n",
       "    }\n",
       "\n",
       "    .dataframe tbody tr th {\n",
       "        vertical-align: top;\n",
       "    }\n",
       "\n",
       "    .dataframe thead th {\n",
       "        text-align: right;\n",
       "    }\n",
       "</style>\n",
       "<table border=\"1\" class=\"dataframe\">\n",
       "  <thead>\n",
       "    <tr style=\"text-align: right;\">\n",
       "      <th></th>\n",
       "      <th>uid</th>\n",
       "      <th>iid</th>\n",
       "      <th>r_ui</th>\n",
       "      <th>est</th>\n",
       "      <th>details</th>\n",
       "    </tr>\n",
       "  </thead>\n",
       "  <tbody>\n",
       "    <tr>\n",
       "      <th>0</th>\n",
       "      <td>596</td>\n",
       "      <td>122900</td>\n",
       "      <td>3.5</td>\n",
       "      <td>3.505346</td>\n",
       "      <td>{'was_impossible': False}</td>\n",
       "    </tr>\n",
       "    <tr>\n",
       "      <th>1</th>\n",
       "      <td>395</td>\n",
       "      <td>355</td>\n",
       "      <td>3.0</td>\n",
       "      <td>2.397870</td>\n",
       "      <td>{'was_impossible': False}</td>\n",
       "    </tr>\n",
       "    <tr>\n",
       "      <th>2</th>\n",
       "      <td>125</td>\n",
       "      <td>48516</td>\n",
       "      <td>4.0</td>\n",
       "      <td>4.437703</td>\n",
       "      <td>{'was_impossible': False}</td>\n",
       "    </tr>\n",
       "    <tr>\n",
       "      <th>3</th>\n",
       "      <td>186</td>\n",
       "      <td>3114</td>\n",
       "      <td>4.0</td>\n",
       "      <td>4.238931</td>\n",
       "      <td>{'was_impossible': False}</td>\n",
       "    </tr>\n",
       "    <tr>\n",
       "      <th>4</th>\n",
       "      <td>517</td>\n",
       "      <td>1954</td>\n",
       "      <td>0.5</td>\n",
       "      <td>2.290126</td>\n",
       "      <td>{'was_impossible': False}</td>\n",
       "    </tr>\n",
       "  </tbody>\n",
       "</table>\n",
       "</div>"
      ],
      "text/plain": [
       "   uid     iid  r_ui       est                    details\n",
       "0  596  122900   3.5  3.505346  {'was_impossible': False}\n",
       "1  395     355   3.0  2.397870  {'was_impossible': False}\n",
       "2  125   48516   4.0  4.437703  {'was_impossible': False}\n",
       "3  186    3114   4.0  4.238931  {'was_impossible': False}\n",
       "4  517    1954   0.5  2.290126  {'was_impossible': False}"
      ]
     },
     "execution_count": 95,
     "metadata": {},
     "output_type": "execute_result"
    }
   ],
   "source": [
    "df_preds.iloc[:5]"
   ]
  },
  {
   "cell_type": "markdown",
   "id": "6e246edc",
   "metadata": {},
   "source": [
    "#### Make a prediction on a user and movie"
   ]
  },
  {
   "cell_type": "code",
   "execution_count": 96,
   "id": "12efa234",
   "metadata": {},
   "outputs": [
    {
     "name": "stdout",
     "output_type": "stream",
     "text": [
      "user: 517        item: 1230       r_ui = None   est = 2.51   {'was_impossible': False}\n"
     ]
    }
   ],
   "source": [
    "uid = 517  # raw user id (as in the ratings file)\n",
    "iid = 1230  # raw item id (as in the ratings file)\n",
    "\n",
    "# get a prediction for specific users and items.\n",
    "pred = nmf.predict(uid, iid, verbose=True)  # we can also pass the real value if it is filled"
   ]
  },
  {
   "cell_type": "code",
   "execution_count": 97,
   "id": "3c2ae3b4",
   "metadata": {},
   "outputs": [
    {
     "name": "stdout",
     "output_type": "stream",
     "text": [
      "user: 517        item: 1230       r_ui = 1.50   est = 2.51   {'was_impossible': False}\n"
     ]
    }
   ],
   "source": [
    "pred = nmf.predict(uid, iid, r_ui=1.5, verbose=True) "
   ]
  },
  {
   "cell_type": "code",
   "execution_count": 98,
   "id": "6c655111",
   "metadata": {},
   "outputs": [
    {
     "name": "stdout",
     "output_type": "stream",
     "text": [
      "Shape users matrix: (610, 15),    nb users: 610, nb latent factors: 15\n",
      "Shape movies matrix: (8994, 15),    nb movies: 8994, nb latent factors: 15\n"
     ]
    }
   ],
   "source": [
    "# Let's take a look at the matrices\n",
    "users_matrix = nmf.pu\n",
    "print(f'Shape users matrix: {users_matrix.shape},\\\n",
    "    nb users: {users_matrix.shape[0]}, nb latent factors: {users_matrix.shape[1]}')\n",
    "\n",
    "movies_matrix = nmf.qi\n",
    "print(f'Shape movies matrix: {movies_matrix.shape},\\\n",
    "    nb movies: {movies_matrix.shape[0]}, nb latent factors: {movies_matrix.shape[1]}')"
   ]
  },
  {
   "cell_type": "markdown",
   "id": "1d031c78",
   "metadata": {},
   "source": [
    "#### First conclusion:\n",
    "- The mean error (RMSE): 0.9166, which seems pretty correct\n",
    "- But how to choose the number of factors ? => Using a grid-search on cross-validation"
   ]
  },
  {
   "cell_type": "markdown",
   "id": "2bdde9ac",
   "metadata": {},
   "source": [
    "#### Hyperparameter tuning"
   ]
  },
  {
   "cell_type": "code",
   "execution_count": 99,
   "id": "a989b968",
   "metadata": {},
   "outputs": [
    {
     "name": "stdout",
     "output_type": "stream",
     "text": [
      "0.9330244559563917\n",
      "{'n_factors': 16}\n"
     ]
    }
   ],
   "source": [
    "# Use movielens-100K\n",
    "nmf = NMF()\n",
    "param_grid = {'n_factors': [14, 15, 16]}\n",
    "gs_nmf = GridSearchCV(NMF, param_grid, measures=['rmse'], cv=3)\n",
    "\n",
    "gs_nmf.fit(dataset_ratings)\n",
    "\n",
    "# best RMSE score\n",
    "print(gs_nmf.best_score['rmse'])\n",
    "\n",
    "# combination of parameters that gave the best RMSE score\n",
    "print(gs_nmf.best_params['rmse'])"
   ]
  },
  {
   "cell_type": "markdown",
   "id": "b34f0e1c",
   "metadata": {},
   "source": [
    "#### SVD: Singular Value Decomposition"
   ]
  },
  {
   "cell_type": "code",
   "execution_count": 100,
   "id": "62500373",
   "metadata": {},
   "outputs": [
    {
     "name": "stdout",
     "output_type": "stream",
     "text": [
      "RMSE: 0.8778\n"
     ]
    }
   ],
   "source": [
    "# SVD model\n",
    "svd = SVD()\n",
    "\n",
    "# Train the algorithm on the train set, and predict ratings for the test set\n",
    "svd.fit(train)\n",
    "preds_svd = svd.test(test)\n",
    "\n",
    "# Then compute RMSE\n",
    "accuracy.rmse(preds_svd)\n",
    "\n",
    "# To dataframe\n",
    "df_preds_svd = pd.DataFrame(preds_svd)"
   ]
  },
  {
   "cell_type": "markdown",
   "id": "cd6fc12a",
   "metadata": {},
   "source": [
    "### 2.2. k Nearest Neighbour\n",
    "__K-nearest neighbor__ finds the k most similar items to a particular instance based on a given distance metric.  \n",
    "It can be used for classification (voting of the k-nearest neighbors) or regression (average values of the k-nearest neighbors).  \n",
    "In this my model, I used to __cosine similarity__ as metric."
   ]
  },
  {
   "cell_type": "code",
   "execution_count": 143,
   "id": "93f21ca3",
   "metadata": {},
   "outputs": [],
   "source": [
    "n_neighbors = 20\n",
    "metric = 'cosine'\n",
    "model_knn = NearestNeighbors(metric=metric, n_neighbors=n_neighbors, n_jobs=-1)\n",
    "index_user_to_predict_k_movies = 0\n",
    "top_k_movies = 5"
   ]
  },
  {
   "cell_type": "code",
   "execution_count": 144,
   "id": "25be682c",
   "metadata": {},
   "outputs": [],
   "source": [
    "# Fill nan values in empyt scores as it will not be used in cosine similarity\n",
    "user_movie_matrix_filled = user_movie_matrix.fillna(0)\n",
    "\n",
    "# train knn\n",
    "model_knn.fit(user_movie_matrix_filled)\n",
    "\n",
    "# Get similar users distances and indexes\n",
    "user_to_predict_k_movies = user_movie_matrix_filled.iloc[index_user_to_predict_k_movies,:].values.reshape(1,-1)\n",
    "distances, indices_similar_users = model_knn.kneighbors(user_to_predict_k_movies)\n",
    "distances = distances.flatten()\n",
    "indices_similar_users = indices_similar_users.flatten()"
   ]
  },
  {
   "cell_type": "code",
   "execution_count": 153,
   "id": "6b750db0",
   "metadata": {},
   "outputs": [
    {
     "name": "stderr",
     "output_type": "stream",
     "text": [
      "C:\\Users\\NICOLA~1.CLA\\AppData\\Local\\Temp/ipykernel_11028/3966471157.py:3: RuntimeWarning: Mean of empty slice\n",
      "  movies_scores_similar_users = np.nanmean(similar_users, axis=0)\n"
     ]
    }
   ],
   "source": [
    "# Taking average scores for these users (excluding zero because no score)\n",
    "similar_users = user_movie_matrix[user_movie_matrix.index.isin(indices_similar_users)]\n",
    "movies_scores_similar_users = np.nanmean(similar_users, axis=0)\n",
    "movies_scores_similar_users = np.nan_to_num(movies_scores_similar_users)"
   ]
  },
  {
   "cell_type": "code",
   "execution_count": 158,
   "id": "e16950b0",
   "metadata": {},
   "outputs": [],
   "source": [
    "top_movies = []\n",
    "\n",
    "while len(top_movies) <= top_k_movies:\n",
    "    # Get index of the movie with the max score\n",
    "    max_value_index = movies_scores_similar_users.argmax()\n",
    "    \n",
    "    # Adding the movie with the highest score to the top list\n",
    "    top_movies.append(max_value_index)\n",
    "    \n",
    "    # Removing this index in the movies\n",
    "    movies_scores_similar_users = np.delete(movies_scores_similar_users, max_value_index)"
   ]
  },
  {
   "cell_type": "code",
   "execution_count": 160,
   "id": "bf13b64f",
   "metadata": {},
   "outputs": [
    {
     "data": {
      "text/plain": [
       "[61, 159, 168, 185, 186, 210]"
      ]
     },
     "execution_count": 160,
     "metadata": {},
     "output_type": "execute_result"
    }
   ],
   "source": [
    "top_movies\n",
    "# there is still the need to remove movies that the user 0 have already watched, we can integrate it in the whil loop upper."
   ]
  },
  {
   "cell_type": "markdown",
   "id": "21905866",
   "metadata": {},
   "source": [
    "#### Pros\n",
    "- __No domain knowledge necessary__: It does not need any information regarding the movies (genres, author...) , and any \"understanding\" of the movie itself \n",
    "- __Serendipity__ : The user can __discover new interests__\n",
    "\n",
    "#### Cons\n",
    "- __Cold start__: For a new user or item, there isn't enough data to make accurate recommendations. \n",
    "- __Scalability__: There are millions of users and products in many of the environments in which these systems make recommendations. Thus, a large amount of computation power is often necessary to calculate recommendations.\n",
    "- __Sparsity__: The number of items sold on major e-commerce sites is extremely large. The most active users will only have rated a small subset of the overall database. Thus, even the most popular items have very few ratings."
   ]
  },
  {
   "cell_type": "markdown",
   "id": "47f24bf6",
   "metadata": {},
   "source": [
    "## 3. Content-based Filtering\n",
    "__Content-Based Filtering__ is used to produce items recommendation based on items’ and/or users characteristics.  \n",
    "In these types of systems, the __descriptive attributes of items/users are used__ to make recommendations. The term “content” refers to these descriptions."
   ]
  },
  {
   "cell_type": "code",
   "execution_count": 195,
   "id": "ceaa29db",
   "metadata": {},
   "outputs": [
    {
     "data": {
      "text/html": [
       "<div>\n",
       "<style scoped>\n",
       "    .dataframe tbody tr th:only-of-type {\n",
       "        vertical-align: middle;\n",
       "    }\n",
       "\n",
       "    .dataframe tbody tr th {\n",
       "        vertical-align: top;\n",
       "    }\n",
       "\n",
       "    .dataframe thead th {\n",
       "        text-align: right;\n",
       "    }\n",
       "</style>\n",
       "<table border=\"1\" class=\"dataframe\">\n",
       "  <thead>\n",
       "    <tr style=\"text-align: right;\">\n",
       "      <th></th>\n",
       "      <th>movieId</th>\n",
       "      <th>title</th>\n",
       "      <th>genres</th>\n",
       "    </tr>\n",
       "  </thead>\n",
       "  <tbody>\n",
       "    <tr>\n",
       "      <th>20</th>\n",
       "      <td>21</td>\n",
       "      <td>Get Shorty (1995)</td>\n",
       "      <td>Comedy Crime Thriller</td>\n",
       "    </tr>\n",
       "    <tr>\n",
       "      <th>21</th>\n",
       "      <td>22</td>\n",
       "      <td>Copycat (1995)</td>\n",
       "      <td>Crime Drama Horror Mystery Thriller</td>\n",
       "    </tr>\n",
       "    <tr>\n",
       "      <th>22</th>\n",
       "      <td>23</td>\n",
       "      <td>Assassins (1995)</td>\n",
       "      <td>Action Crime Thriller</td>\n",
       "    </tr>\n",
       "    <tr>\n",
       "      <th>23</th>\n",
       "      <td>24</td>\n",
       "      <td>Powder (1995)</td>\n",
       "      <td>Drama Sci-Fi</td>\n",
       "    </tr>\n",
       "    <tr>\n",
       "      <th>24</th>\n",
       "      <td>25</td>\n",
       "      <td>Leaving Las Vegas (1995)</td>\n",
       "      <td>Drama Romance</td>\n",
       "    </tr>\n",
       "    <tr>\n",
       "      <th>25</th>\n",
       "      <td>26</td>\n",
       "      <td>Othello (1995)</td>\n",
       "      <td>Drama</td>\n",
       "    </tr>\n",
       "    <tr>\n",
       "      <th>26</th>\n",
       "      <td>27</td>\n",
       "      <td>Now and Then (1995)</td>\n",
       "      <td>Children Drama</td>\n",
       "    </tr>\n",
       "    <tr>\n",
       "      <th>27</th>\n",
       "      <td>28</td>\n",
       "      <td>Persuasion (1995)</td>\n",
       "      <td>Drama Romance</td>\n",
       "    </tr>\n",
       "    <tr>\n",
       "      <th>28</th>\n",
       "      <td>29</td>\n",
       "      <td>City of Lost Children, The (Cité des enfants p...</td>\n",
       "      <td>Adventure Drama Fantasy Mystery Sci-Fi</td>\n",
       "    </tr>\n",
       "    <tr>\n",
       "      <th>29</th>\n",
       "      <td>30</td>\n",
       "      <td>Shanghai Triad (Yao a yao yao dao waipo qiao) ...</td>\n",
       "      <td>Crime Drama</td>\n",
       "    </tr>\n",
       "    <tr>\n",
       "      <th>30</th>\n",
       "      <td>31</td>\n",
       "      <td>Dangerous Minds (1995)</td>\n",
       "      <td>Drama</td>\n",
       "    </tr>\n",
       "    <tr>\n",
       "      <th>31</th>\n",
       "      <td>32</td>\n",
       "      <td>Twelve Monkeys (a.k.a. 12 Monkeys) (1995)</td>\n",
       "      <td>Mystery Sci-Fi Thriller</td>\n",
       "    </tr>\n",
       "    <tr>\n",
       "      <th>32</th>\n",
       "      <td>34</td>\n",
       "      <td>Babe (1995)</td>\n",
       "      <td>Children Drama</td>\n",
       "    </tr>\n",
       "    <tr>\n",
       "      <th>33</th>\n",
       "      <td>36</td>\n",
       "      <td>Dead Man Walking (1995)</td>\n",
       "      <td>Crime Drama</td>\n",
       "    </tr>\n",
       "    <tr>\n",
       "      <th>34</th>\n",
       "      <td>38</td>\n",
       "      <td>It Takes Two (1995)</td>\n",
       "      <td>Children Comedy</td>\n",
       "    </tr>\n",
       "    <tr>\n",
       "      <th>35</th>\n",
       "      <td>39</td>\n",
       "      <td>Clueless (1995)</td>\n",
       "      <td>Comedy Romance</td>\n",
       "    </tr>\n",
       "    <tr>\n",
       "      <th>36</th>\n",
       "      <td>40</td>\n",
       "      <td>Cry, the Beloved Country (1995)</td>\n",
       "      <td>Drama</td>\n",
       "    </tr>\n",
       "    <tr>\n",
       "      <th>37</th>\n",
       "      <td>41</td>\n",
       "      <td>Richard III (1995)</td>\n",
       "      <td>Drama War</td>\n",
       "    </tr>\n",
       "    <tr>\n",
       "      <th>38</th>\n",
       "      <td>42</td>\n",
       "      <td>Dead Presidents (1995)</td>\n",
       "      <td>Action Crime Drama</td>\n",
       "    </tr>\n",
       "    <tr>\n",
       "      <th>39</th>\n",
       "      <td>43</td>\n",
       "      <td>Restoration (1995)</td>\n",
       "      <td>Drama</td>\n",
       "    </tr>\n",
       "  </tbody>\n",
       "</table>\n",
       "</div>"
      ],
      "text/plain": [
       "    movieId                                              title  \\\n",
       "20       21                                  Get Shorty (1995)   \n",
       "21       22                                     Copycat (1995)   \n",
       "22       23                                   Assassins (1995)   \n",
       "23       24                                      Powder (1995)   \n",
       "24       25                           Leaving Las Vegas (1995)   \n",
       "25       26                                     Othello (1995)   \n",
       "26       27                                Now and Then (1995)   \n",
       "27       28                                  Persuasion (1995)   \n",
       "28       29  City of Lost Children, The (Cité des enfants p...   \n",
       "29       30  Shanghai Triad (Yao a yao yao dao waipo qiao) ...   \n",
       "30       31                             Dangerous Minds (1995)   \n",
       "31       32          Twelve Monkeys (a.k.a. 12 Monkeys) (1995)   \n",
       "32       34                                        Babe (1995)   \n",
       "33       36                            Dead Man Walking (1995)   \n",
       "34       38                                It Takes Two (1995)   \n",
       "35       39                                    Clueless (1995)   \n",
       "36       40                    Cry, the Beloved Country (1995)   \n",
       "37       41                                 Richard III (1995)   \n",
       "38       42                             Dead Presidents (1995)   \n",
       "39       43                                 Restoration (1995)   \n",
       "\n",
       "                                    genres  \n",
       "20                   Comedy Crime Thriller  \n",
       "21     Crime Drama Horror Mystery Thriller  \n",
       "22                   Action Crime Thriller  \n",
       "23                            Drama Sci-Fi  \n",
       "24                           Drama Romance  \n",
       "25                                   Drama  \n",
       "26                          Children Drama  \n",
       "27                           Drama Romance  \n",
       "28  Adventure Drama Fantasy Mystery Sci-Fi  \n",
       "29                             Crime Drama  \n",
       "30                                   Drama  \n",
       "31                 Mystery Sci-Fi Thriller  \n",
       "32                          Children Drama  \n",
       "33                             Crime Drama  \n",
       "34                         Children Comedy  \n",
       "35                          Comedy Romance  \n",
       "36                                   Drama  \n",
       "37                               Drama War  \n",
       "38                      Action Crime Drama  \n",
       "39                                   Drama  "
      ]
     },
     "execution_count": 195,
     "metadata": {},
     "output_type": "execute_result"
    }
   ],
   "source": [
    "movies.iloc[20:40]"
   ]
  },
  {
   "cell_type": "markdown",
   "id": "1aff03bf",
   "metadata": {},
   "source": [
    "#### tf-idf"
   ]
  },
  {
   "cell_type": "markdown",
   "id": "fc8b72f8",
   "metadata": {},
   "source": [
    "We need to __convert the word vector__ into a __numerical representation__ We will use __Term Frequency-Inverse Document Frequency (TF-IDF)__ vectors for each overview.\n",
    "\n",
    "It is the __relative frequency of a word in a document__ and is given as (term instances/total instances). Inverse Document Frequency is the relative count of documents containing the term, given as log(number of documents/documents with term) The overall importance of each word to the documents in which they appear is equal to TF * IDF"
   ]
  },
  {
   "cell_type": "code",
   "execution_count": 202,
   "id": "3a6885f9",
   "metadata": {},
   "outputs": [],
   "source": [
    "tfidf = TfidfVectorizer(stop_words='english')\n",
    "movies['genres'] = movies['genres'].apply(lambda x: x.replace('|', ' ').replace('-', ''))\n",
    "\n",
    "# tfidf matrix\n",
    "tfidf_matrix = tfidf.fit_transform(movies['genres'])"
   ]
  },
  {
   "cell_type": "code",
   "execution_count": 204,
   "id": "ae5295f1",
   "metadata": {},
   "outputs": [
    {
     "data": {
      "text/plain": [
       "(9742, 21)"
      ]
     },
     "execution_count": 204,
     "metadata": {},
     "output_type": "execute_result"
    }
   ],
   "source": [
    "tfidf_matrix.shape"
   ]
  },
  {
   "cell_type": "markdown",
   "id": "8a51876c",
   "metadata": {},
   "source": [
    "(9742, 21)  means that here are 21 different words are used to describe a 9742 movies."
   ]
  },
  {
   "cell_type": "code",
   "execution_count": 205,
   "id": "bc1811f9",
   "metadata": {},
   "outputs": [
    {
     "data": {
      "text/plain": [
       "array(['action', 'adventure', 'animation', 'children', 'comedy', 'crime',\n",
       "       'documentary', 'drama', 'fantasy', 'filmnoir', 'genres', 'horror',\n",
       "       'imax', 'listed', 'musical', 'mystery', 'romance', 'scifi',\n",
       "       'thriller', 'war', 'western'], dtype=object)"
      ]
     },
     "execution_count": 205,
     "metadata": {},
     "output_type": "execute_result"
    }
   ],
   "source": [
    "tfidf.get_feature_names_out()"
   ]
  },
  {
   "cell_type": "code",
   "execution_count": 180,
   "id": "311798ce",
   "metadata": {},
   "outputs": [
    {
     "data": {
      "text/plain": [
       "23"
      ]
     },
     "execution_count": 180,
     "metadata": {},
     "output_type": "execute_result"
    }
   ],
   "source": [
    "len(tfidf.get_feature_names_out())"
   ]
  },
  {
   "cell_type": "code",
   "execution_count": 210,
   "id": "35b61b2d",
   "metadata": {},
   "outputs": [],
   "source": [
    "# Compute cosine similarity\n",
    "cosin_sim = linear_kernel(tfidf_matrix, tfidf_matrix)\n",
    "\n",
    "# Put it in a Pandas Series\n",
    "index_of_movies = pd.Series(movies.index, index=movies['title']).drop_duplicates()"
   ]
  },
  {
   "cell_type": "code",
   "execution_count": 221,
   "id": "96c2987f",
   "metadata": {},
   "outputs": [],
   "source": [
    "def get_recommendations(title, cosin_sim=cosin_sim, top_k=10):\n",
    "    \n",
    "    idx_of_title = index_of_movies[title]\n",
    "    \n",
    "    similarity_scores = list(enumerate(cosin_sim[idx_of_title]))\n",
    "    \n",
    "    # sorting of movies idx based on similarity score\n",
    "    similarity_scores = sorted(similarity_scores, key = lambda x:x[1], reverse = True)\n",
    "    \n",
    "    # get top k\n",
    "    similarity_scores = similarity_scores[0:top_k]\n",
    "    movies_idx = [i[0] for i in similarity_scores]\n",
    "    \n",
    "    return movies.iloc[movies_idx]"
   ]
  },
  {
   "cell_type": "markdown",
   "id": "2f23ef55",
   "metadata": {},
   "source": [
    "#### Make recommendation"
   ]
  },
  {
   "cell_type": "code",
   "execution_count": 222,
   "id": "49cc79cb",
   "metadata": {},
   "outputs": [
    {
     "data": {
      "text/html": [
       "<div>\n",
       "<style scoped>\n",
       "    .dataframe tbody tr th:only-of-type {\n",
       "        vertical-align: middle;\n",
       "    }\n",
       "\n",
       "    .dataframe tbody tr th {\n",
       "        vertical-align: top;\n",
       "    }\n",
       "\n",
       "    .dataframe thead th {\n",
       "        text-align: right;\n",
       "    }\n",
       "</style>\n",
       "<table border=\"1\" class=\"dataframe\">\n",
       "  <thead>\n",
       "    <tr style=\"text-align: right;\">\n",
       "      <th></th>\n",
       "      <th>movieId</th>\n",
       "      <th>title</th>\n",
       "      <th>genres</th>\n",
       "    </tr>\n",
       "  </thead>\n",
       "  <tbody>\n",
       "    <tr>\n",
       "      <th>13</th>\n",
       "      <td>14</td>\n",
       "      <td>Nixon (1995)</td>\n",
       "      <td>Drama</td>\n",
       "    </tr>\n",
       "    <tr>\n",
       "      <th>25</th>\n",
       "      <td>26</td>\n",
       "      <td>Othello (1995)</td>\n",
       "      <td>Drama</td>\n",
       "    </tr>\n",
       "    <tr>\n",
       "      <th>30</th>\n",
       "      <td>31</td>\n",
       "      <td>Dangerous Minds (1995)</td>\n",
       "      <td>Drama</td>\n",
       "    </tr>\n",
       "    <tr>\n",
       "      <th>36</th>\n",
       "      <td>40</td>\n",
       "      <td>Cry, the Beloved Country (1995)</td>\n",
       "      <td>Drama</td>\n",
       "    </tr>\n",
       "    <tr>\n",
       "      <th>39</th>\n",
       "      <td>43</td>\n",
       "      <td>Restoration (1995)</td>\n",
       "      <td>Drama</td>\n",
       "    </tr>\n",
       "    <tr>\n",
       "      <th>50</th>\n",
       "      <td>55</td>\n",
       "      <td>Georgia (1995)</td>\n",
       "      <td>Drama</td>\n",
       "    </tr>\n",
       "    <tr>\n",
       "      <th>51</th>\n",
       "      <td>57</td>\n",
       "      <td>Home for the Holidays (1995)</td>\n",
       "      <td>Drama</td>\n",
       "    </tr>\n",
       "    <tr>\n",
       "      <th>55</th>\n",
       "      <td>62</td>\n",
       "      <td>Mr. Holland's Opus (1995)</td>\n",
       "      <td>Drama</td>\n",
       "    </tr>\n",
       "    <tr>\n",
       "      <th>105</th>\n",
       "      <td>121</td>\n",
       "      <td>Boys of St. Vincent, The (1992)</td>\n",
       "      <td>Drama</td>\n",
       "    </tr>\n",
       "    <tr>\n",
       "      <th>120</th>\n",
       "      <td>147</td>\n",
       "      <td>Basketball Diaries, The (1995)</td>\n",
       "      <td>Drama</td>\n",
       "    </tr>\n",
       "  </tbody>\n",
       "</table>\n",
       "</div>"
      ],
      "text/plain": [
       "     movieId                            title genres\n",
       "13        14                     Nixon (1995)  Drama\n",
       "25        26                   Othello (1995)  Drama\n",
       "30        31           Dangerous Minds (1995)  Drama\n",
       "36        40  Cry, the Beloved Country (1995)  Drama\n",
       "39        43               Restoration (1995)  Drama\n",
       "50        55                   Georgia (1995)  Drama\n",
       "51        57     Home for the Holidays (1995)  Drama\n",
       "55        62        Mr. Holland's Opus (1995)  Drama\n",
       "105      121  Boys of St. Vincent, The (1992)  Drama\n",
       "120      147   Basketball Diaries, The (1995)  Drama"
      ]
     },
     "execution_count": 222,
     "metadata": {},
     "output_type": "execute_result"
    }
   ],
   "source": [
    "get_recommendations(title='Dangerous Minds (1995)', cosin_sim=cosin_sim)"
   ]
  },
  {
   "cell_type": "markdown",
   "id": "02ef178c",
   "metadata": {},
   "source": [
    "This is not very efficient as all the movies with the same genre would have the same similarity score...  \n",
    "Let's try with another dataset with more information."
   ]
  },
  {
   "cell_type": "markdown",
   "id": "20aff535",
   "metadata": {},
   "source": [
    "#### Content-based filtering based on movie overview description\n",
    "https://www.kaggle.com/tmdb/tmdb-movie-metadata?select=tmdb_5000_movies.csv"
   ]
  },
  {
   "cell_type": "code",
   "execution_count": 234,
   "id": "52693d61",
   "metadata": {},
   "outputs": [
    {
     "name": "stdout",
     "output_type": "stream",
     "text": [
      "Nb of rows of movies lmdb:\n",
      "4803\n"
     ]
    }
   ],
   "source": [
    "movies_lmdb = pd.read_csv('../input_data/tmdb_5000_movies.csv')\n",
    "print('Nb of rows of movies lmdb:')\n",
    "print(len(movies_lmdb))"
   ]
  },
  {
   "cell_type": "code",
   "execution_count": 227,
   "id": "a935f9b8",
   "metadata": {},
   "outputs": [
    {
     "data": {
      "text/html": [
       "<div>\n",
       "<style scoped>\n",
       "    .dataframe tbody tr th:only-of-type {\n",
       "        vertical-align: middle;\n",
       "    }\n",
       "\n",
       "    .dataframe tbody tr th {\n",
       "        vertical-align: top;\n",
       "    }\n",
       "\n",
       "    .dataframe thead th {\n",
       "        text-align: right;\n",
       "    }\n",
       "</style>\n",
       "<table border=\"1\" class=\"dataframe\">\n",
       "  <thead>\n",
       "    <tr style=\"text-align: right;\">\n",
       "      <th></th>\n",
       "      <th>budget</th>\n",
       "      <th>genres</th>\n",
       "      <th>homepage</th>\n",
       "      <th>id</th>\n",
       "      <th>keywords</th>\n",
       "      <th>original_language</th>\n",
       "      <th>original_title</th>\n",
       "      <th>overview</th>\n",
       "      <th>popularity</th>\n",
       "      <th>production_companies</th>\n",
       "      <th>production_countries</th>\n",
       "      <th>release_date</th>\n",
       "      <th>revenue</th>\n",
       "      <th>runtime</th>\n",
       "      <th>spoken_languages</th>\n",
       "      <th>status</th>\n",
       "      <th>tagline</th>\n",
       "      <th>title</th>\n",
       "      <th>vote_average</th>\n",
       "      <th>vote_count</th>\n",
       "    </tr>\n",
       "  </thead>\n",
       "  <tbody>\n",
       "    <tr>\n",
       "      <th>0</th>\n",
       "      <td>237000000</td>\n",
       "      <td>[{\"id\": 28, \"name\": \"Action\"}, {\"id\": 12, \"nam...</td>\n",
       "      <td>http://www.avatarmovie.com/</td>\n",
       "      <td>19995</td>\n",
       "      <td>[{\"id\": 1463, \"name\": \"culture clash\"}, {\"id\":...</td>\n",
       "      <td>en</td>\n",
       "      <td>Avatar</td>\n",
       "      <td>In the 22nd century, a paraplegic Marine is di...</td>\n",
       "      <td>150.437577</td>\n",
       "      <td>[{\"name\": \"Ingenious Film Partners\", \"id\": 289...</td>\n",
       "      <td>[{\"iso_3166_1\": \"US\", \"name\": \"United States o...</td>\n",
       "      <td>2009-12-10</td>\n",
       "      <td>2787965087</td>\n",
       "      <td>162.0</td>\n",
       "      <td>[{\"iso_639_1\": \"en\", \"name\": \"English\"}, {\"iso...</td>\n",
       "      <td>Released</td>\n",
       "      <td>Enter the World of Pandora.</td>\n",
       "      <td>Avatar</td>\n",
       "      <td>7.2</td>\n",
       "      <td>11800</td>\n",
       "    </tr>\n",
       "    <tr>\n",
       "      <th>1</th>\n",
       "      <td>300000000</td>\n",
       "      <td>[{\"id\": 12, \"name\": \"Adventure\"}, {\"id\": 14, \"...</td>\n",
       "      <td>http://disney.go.com/disneypictures/pirates/</td>\n",
       "      <td>285</td>\n",
       "      <td>[{\"id\": 270, \"name\": \"ocean\"}, {\"id\": 726, \"na...</td>\n",
       "      <td>en</td>\n",
       "      <td>Pirates of the Caribbean: At World's End</td>\n",
       "      <td>Captain Barbossa, long believed to be dead, ha...</td>\n",
       "      <td>139.082615</td>\n",
       "      <td>[{\"name\": \"Walt Disney Pictures\", \"id\": 2}, {\"...</td>\n",
       "      <td>[{\"iso_3166_1\": \"US\", \"name\": \"United States o...</td>\n",
       "      <td>2007-05-19</td>\n",
       "      <td>961000000</td>\n",
       "      <td>169.0</td>\n",
       "      <td>[{\"iso_639_1\": \"en\", \"name\": \"English\"}]</td>\n",
       "      <td>Released</td>\n",
       "      <td>At the end of the world, the adventure begins.</td>\n",
       "      <td>Pirates of the Caribbean: At World's End</td>\n",
       "      <td>6.9</td>\n",
       "      <td>4500</td>\n",
       "    </tr>\n",
       "    <tr>\n",
       "      <th>2</th>\n",
       "      <td>245000000</td>\n",
       "      <td>[{\"id\": 28, \"name\": \"Action\"}, {\"id\": 12, \"nam...</td>\n",
       "      <td>http://www.sonypictures.com/movies/spectre/</td>\n",
       "      <td>206647</td>\n",
       "      <td>[{\"id\": 470, \"name\": \"spy\"}, {\"id\": 818, \"name...</td>\n",
       "      <td>en</td>\n",
       "      <td>Spectre</td>\n",
       "      <td>A cryptic message from Bond’s past sends him o...</td>\n",
       "      <td>107.376788</td>\n",
       "      <td>[{\"name\": \"Columbia Pictures\", \"id\": 5}, {\"nam...</td>\n",
       "      <td>[{\"iso_3166_1\": \"GB\", \"name\": \"United Kingdom\"...</td>\n",
       "      <td>2015-10-26</td>\n",
       "      <td>880674609</td>\n",
       "      <td>148.0</td>\n",
       "      <td>[{\"iso_639_1\": \"fr\", \"name\": \"Fran\\u00e7ais\"},...</td>\n",
       "      <td>Released</td>\n",
       "      <td>A Plan No One Escapes</td>\n",
       "      <td>Spectre</td>\n",
       "      <td>6.3</td>\n",
       "      <td>4466</td>\n",
       "    </tr>\n",
       "  </tbody>\n",
       "</table>\n",
       "</div>"
      ],
      "text/plain": [
       "      budget                                             genres  \\\n",
       "0  237000000  [{\"id\": 28, \"name\": \"Action\"}, {\"id\": 12, \"nam...   \n",
       "1  300000000  [{\"id\": 12, \"name\": \"Adventure\"}, {\"id\": 14, \"...   \n",
       "2  245000000  [{\"id\": 28, \"name\": \"Action\"}, {\"id\": 12, \"nam...   \n",
       "\n",
       "                                       homepage      id  \\\n",
       "0                   http://www.avatarmovie.com/   19995   \n",
       "1  http://disney.go.com/disneypictures/pirates/     285   \n",
       "2   http://www.sonypictures.com/movies/spectre/  206647   \n",
       "\n",
       "                                            keywords original_language  \\\n",
       "0  [{\"id\": 1463, \"name\": \"culture clash\"}, {\"id\":...                en   \n",
       "1  [{\"id\": 270, \"name\": \"ocean\"}, {\"id\": 726, \"na...                en   \n",
       "2  [{\"id\": 470, \"name\": \"spy\"}, {\"id\": 818, \"name...                en   \n",
       "\n",
       "                             original_title  \\\n",
       "0                                    Avatar   \n",
       "1  Pirates of the Caribbean: At World's End   \n",
       "2                                   Spectre   \n",
       "\n",
       "                                            overview  popularity  \\\n",
       "0  In the 22nd century, a paraplegic Marine is di...  150.437577   \n",
       "1  Captain Barbossa, long believed to be dead, ha...  139.082615   \n",
       "2  A cryptic message from Bond’s past sends him o...  107.376788   \n",
       "\n",
       "                                production_companies  \\\n",
       "0  [{\"name\": \"Ingenious Film Partners\", \"id\": 289...   \n",
       "1  [{\"name\": \"Walt Disney Pictures\", \"id\": 2}, {\"...   \n",
       "2  [{\"name\": \"Columbia Pictures\", \"id\": 5}, {\"nam...   \n",
       "\n",
       "                                production_countries release_date     revenue  \\\n",
       "0  [{\"iso_3166_1\": \"US\", \"name\": \"United States o...   2009-12-10  2787965087   \n",
       "1  [{\"iso_3166_1\": \"US\", \"name\": \"United States o...   2007-05-19   961000000   \n",
       "2  [{\"iso_3166_1\": \"GB\", \"name\": \"United Kingdom\"...   2015-10-26   880674609   \n",
       "\n",
       "   runtime                                   spoken_languages    status  \\\n",
       "0    162.0  [{\"iso_639_1\": \"en\", \"name\": \"English\"}, {\"iso...  Released   \n",
       "1    169.0           [{\"iso_639_1\": \"en\", \"name\": \"English\"}]  Released   \n",
       "2    148.0  [{\"iso_639_1\": \"fr\", \"name\": \"Fran\\u00e7ais\"},...  Released   \n",
       "\n",
       "                                          tagline  \\\n",
       "0                     Enter the World of Pandora.   \n",
       "1  At the end of the world, the adventure begins.   \n",
       "2                           A Plan No One Escapes   \n",
       "\n",
       "                                      title  vote_average  vote_count  \n",
       "0                                    Avatar           7.2       11800  \n",
       "1  Pirates of the Caribbean: At World's End           6.9        4500  \n",
       "2                                   Spectre           6.3        4466  "
      ]
     },
     "execution_count": 227,
     "metadata": {},
     "output_type": "execute_result"
    }
   ],
   "source": [
    "movies_lmdb.iloc[0:3]"
   ]
  },
  {
   "cell_type": "markdown",
   "id": "e4ca5a65",
   "metadata": {},
   "source": [
    "Let's perform a content-based filtering on the overview informations (brief description of the movie)"
   ]
  },
  {
   "cell_type": "code",
   "execution_count": 235,
   "id": "bb9d3e10",
   "metadata": {},
   "outputs": [
    {
     "data": {
      "text/plain": [
       "0    In the 22nd century, a paraplegic Marine is di...\n",
       "1    Captain Barbossa, long believed to be dead, ha...\n",
       "2    A cryptic message from Bond’s past sends him o...\n",
       "3    Following the death of District Attorney Harve...\n",
       "4    John Carter is a war-weary, former military ca...\n",
       "Name: overview, dtype: object"
      ]
     },
     "execution_count": 235,
     "metadata": {},
     "output_type": "execute_result"
    }
   ],
   "source": [
    "movies_lmdb['overview'].head(5)"
   ]
  },
  {
   "cell_type": "code",
   "execution_count": 238,
   "id": "fa22193c",
   "metadata": {},
   "outputs": [
    {
     "name": "stdout",
     "output_type": "stream",
     "text": [
      "Nb of movies: 4803  Nb of text features: 20978\n"
     ]
    }
   ],
   "source": [
    "tfidf = TfidfVectorizer(stop_words='english')\n",
    "\n",
    "# Replace NaN with an empty string\n",
    "movies_lmdb['overview'] = movies_lmdb['overview'].fillna('')\n",
    "\n",
    "# Construct the required TF-IDF matrix by fitting and transforming the data\n",
    "tfidf_matrix = tfidf.fit_transform(movies_lmdb['overview'])\n",
    "\n",
    "# Output the shape of tfidf_matrix\n",
    "tfidf_matrix.shape\n",
    "\n",
    "print(f'Nb of movies: {tfidf_matrix.shape[0]}  Nb of text features: {tfidf_matrix.shape[1]}')"
   ]
  },
  {
   "cell_type": "code",
   "execution_count": 239,
   "id": "d4843f6a",
   "metadata": {},
   "outputs": [],
   "source": [
    "# Compute the cosine similarity matrix\n",
    "cosine_sim = linear_kernel(tfidf_matrix, tfidf_matrix)"
   ]
  },
  {
   "cell_type": "code",
   "execution_count": 240,
   "id": "90155f50",
   "metadata": {},
   "outputs": [],
   "source": [
    "# Pandas series\n",
    "indices = pd.Series(movies_lmdb.index, index=movies_lmdb['title']).drop_duplicates()"
   ]
  },
  {
   "cell_type": "code",
   "execution_count": 241,
   "id": "0ec17f2b",
   "metadata": {},
   "outputs": [],
   "source": [
    "# Function that takes in movie title as input and outputs most similar movies\n",
    "def get_recommendations(title, cosine_sim=cosine_sim, top_k_movies=10):\n",
    "    # Get the index of the movie that matches the title\n",
    "    idx = indices[title]\n",
    "\n",
    "    # Get the pairwsie similarity scores of all movies with that movie\n",
    "    sim_scores = list(enumerate(cosine_sim[idx]))\n",
    "\n",
    "    # Sort the movies based on the similarity scores\n",
    "    sim_scores = sorted(sim_scores, key=lambda x: x[1], reverse=True)\n",
    "\n",
    "    # Get the scores of the top k similar movies\n",
    "    sim_scores = sim_scores[1:(top_k_movies+1)]\n",
    "\n",
    "    # Get the movie indices\n",
    "    movie_indices = [i[0] for i in sim_scores]\n",
    "\n",
    "    # Return the top 10 most similar movies\n",
    "    return movies_lmdb['title'].iloc[movie_indices]"
   ]
  },
  {
   "cell_type": "code",
   "execution_count": 242,
   "id": "72b87cf2",
   "metadata": {},
   "outputs": [
    {
     "data": {
      "text/plain": [
       "65                              The Dark Knight\n",
       "299                              Batman Forever\n",
       "428                              Batman Returns\n",
       "1359                                     Batman\n",
       "3854    Batman: The Dark Knight Returns, Part 2\n",
       "119                               Batman Begins\n",
       "2507                                  Slow Burn\n",
       "9            Batman v Superman: Dawn of Justice\n",
       "1181                                        JFK\n",
       "210                              Batman & Robin\n",
       "Name: title, dtype: object"
      ]
     },
     "execution_count": 242,
     "metadata": {},
     "output_type": "execute_result"
    }
   ],
   "source": [
    "get_recommendations('The Dark Knight Rises')"
   ]
  },
  {
   "cell_type": "code",
   "execution_count": 244,
   "id": "e57401c6",
   "metadata": {},
   "outputs": [
    {
     "data": {
      "text/plain": [
       "3604                       Apollo 18\n",
       "2130                    The American\n",
       "634                       The Matrix\n",
       "1341            The Inhabited Island\n",
       "529                 Tears of the Sun\n",
       "1610                           Hanna\n",
       "311     The Adventures of Pluto Nash\n",
       "847                         Semi-Pro\n",
       "775                        Supernova\n",
       "2628             Blood and Chocolate\n",
       "Name: title, dtype: object"
      ]
     },
     "execution_count": 244,
     "metadata": {},
     "output_type": "execute_result"
    }
   ],
   "source": [
    "get_recommendations('Avatar')"
   ]
  },
  {
   "cell_type": "code",
   "execution_count": null,
   "id": "ea0cdbc5",
   "metadata": {},
   "outputs": [],
   "source": []
  }
 ],
 "metadata": {
  "kernelspec": {
   "display_name": "Python 3 (ipykernel)",
   "language": "python",
   "name": "python3"
  },
  "language_info": {
   "codemirror_mode": {
    "name": "ipython",
    "version": 3
   },
   "file_extension": ".py",
   "mimetype": "text/x-python",
   "name": "python",
   "nbconvert_exporter": "python",
   "pygments_lexer": "ipython3",
   "version": "3.9.0"
  },
  "toc": {
   "base_numbering": 1,
   "nav_menu": {},
   "number_sections": true,
   "sideBar": true,
   "skip_h1_title": false,
   "title_cell": "Table of Contents",
   "title_sidebar": "Contents",
   "toc_cell": false,
   "toc_position": {},
   "toc_section_display": true,
   "toc_window_display": false
  }
 },
 "nbformat": 4,
 "nbformat_minor": 5
}
